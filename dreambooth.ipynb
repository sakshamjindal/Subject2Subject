{
  "cells": [
    {
      "attachments": {},
      "cell_type": "markdown",
      "metadata": {
        "id": "TGZ-681h_HoO"
      },
      "source": [
        "# DreamBooth"
      ]
    },
    {
      "attachments": {},
      "cell_type": "markdown",
      "metadata": {
        "id": "tFGjpuqH_HoR"
      },
      "source": [
        "[DreamBooth](https://arxiv.org/abs/2208.12242) is a method to personalize text-to-image models like Stable Diffusion given just a few (3-5) images of a subject. It allows the model to generate contextualized images of the subject in different scenes, poses, and views.\n",
        "\n",
        "![Dreambooth examples from the project's blog](https://dreambooth.github.io/DreamBooth_files/teaser_static.jpg)\n",
        "<small>Dreambooth examples from the <a href=\"https://dreambooth.github.io\">project's blog.</a></small>\n",
        "\n",
        "This guide will show you how to finetune DreamBooth with the [`CompVis/stable-diffusion-v1-4`](https://huggingface.co/CompVis/stable-diffusion-v1-4) model for various GPU sizes, and with Flax. All the training scripts for DreamBooth used in this guide can be found [here](https://github.com/huggingface/diffusers/tree/main/examples/dreambooth) if you're interested in digging deeper and seeing how things work.\n",
        "\n",
        "Before running the scripts, make sure you install the library's training dependencies. We also recommend installing 🧨 Diffusers from the `main` GitHub branch:\n",
        "\n",
        "```bash\n",
        "pip install git+https://github.com/huggingface/diffusers\n",
        "pip install -U -r diffusers/examples/dreambooth/requirements.txt\n",
        "```\n",
        "\n",
        "xFormers is not part of the training requirements, but we recommend you [install](https://huggingface.co/docs/diffusers/main/en/training/../optimization/xformers) it if you can because it could make your training faster and less memory intensive.\n",
        "\n",
        "After all the dependencies have been set up, initialize a [🤗 Accelerate](https://github.com/huggingface/accelerate/) environment with:\n",
        "\n",
        "```bash\n",
        "accelerate config\n",
        "```\n",
        "\n",
        "To setup a default 🤗 Accelerate environment without choosing any configurations:\n",
        "\n",
        "```bash\n",
        "accelerate config default\n",
        "```\n",
        "\n",
        "Or if your environment doesn't support an interactive shell like a notebook, you can use:"
      ]
    },
    {
      "cell_type": "code",
      "execution_count": 3,
      "metadata": {
        "id": "4Md6IJ3e_HoR"
      },
      "outputs": [
        {
          "name": "stdout",
          "output_type": "stream",
          "text": [
            "Configuration already exists at /root/.cache/huggingface/accelerate/default_config.yaml, will not override. Run `accelerate config` manually or pass a different `save_location`.\n"
          ]
        },
        {
          "data": {
            "text/plain": [
              "False"
            ]
          },
          "execution_count": 3,
          "metadata": {},
          "output_type": "execute_result"
        }
      ],
      "source": [
        "from accelerate.utils import write_basic_config\n",
        "\n",
        "write_basic_config()"
      ]
    },
    {
      "attachments": {},
      "cell_type": "markdown",
      "metadata": {
        "id": "gh4K3pv0_HoS"
      },
      "source": [
        "Finally, download a [few images of a dog](https://huggingface.co/datasets/diffusers/dog-example) to DreamBooth with:"
      ]
    },
    {
      "cell_type": "code",
      "execution_count": 4,
      "metadata": {
        "id": "C4IhUH0p_HoS"
      },
      "outputs": [
        {
          "data": {
            "application/vnd.jupyter.widget-view+json": {
              "model_id": "18081dff16f046edb5f72094b11ab1b4",
              "version_major": 2,
              "version_minor": 0
            },
            "text/plain": [
              "Fetching 19 files:   0%|          | 0/19 [00:00<?, ?it/s]"
            ]
          },
          "metadata": {},
          "output_type": "display_data"
        },
        {
          "data": {
            "application/vnd.jupyter.widget-view+json": {
              "model_id": "1c9f4268fae84f8cafd952fb491d4e72",
              "version_major": 2,
              "version_minor": 0
            },
            "text/plain": [
              "Downloading (…)ammal_a2bbd2437c.jpg:   0%|          | 0.00/52.5k [00:00<?, ?B/s]"
            ]
          },
          "metadata": {},
          "output_type": "display_data"
        },
        {
          "data": {
            "application/vnd.jupyter.widget-view+json": {
              "model_id": "49de7cc0d88641beb870170454e396b8",
              "version_major": 2,
              "version_minor": 0
            },
            "text/plain": [
              "Downloading (…)9243b2acac42fb09.jpg:   0%|          | 0.00/202k [00:00<?, ?B/s]"
            ]
          },
          "metadata": {},
          "output_type": "display_data"
        },
        {
          "data": {
            "application/vnd.jupyter.widget-view+json": {
              "model_id": "4f516f7db6b0471e9c7032c66cdc0bb3",
              "version_major": 2,
              "version_minor": 0
            },
            "text/plain": [
              "Downloading (…)Stock_257746803.jpeg:   0%|          | 0.00/68.2k [00:00<?, ?B/s]"
            ]
          },
          "metadata": {},
          "output_type": "display_data"
        },
        {
          "data": {
            "application/vnd.jupyter.widget-view+json": {
              "model_id": "e7249bdffe6142ec85d3cbff13499ccd",
              "version_major": 2,
              "version_minor": 0
            },
            "text/plain": [
              "Downloading (…)cbd59430dbff7e2.jpeg:   0%|          | 0.00/288k [00:00<?, ?B/s]"
            ]
          },
          "metadata": {},
          "output_type": "display_data"
        },
        {
          "data": {
            "application/vnd.jupyter.widget-view+json": {
              "model_id": "d01beb9a98514988b9fdda63d1c759b8",
              "version_major": 2,
              "version_minor": 0
            },
            "text/plain": [
              "Downloading (…)ng-in-the-forest.jpg:   0%|          | 0.00/93.8k [00:00<?, ?B/s]"
            ]
          },
          "metadata": {},
          "output_type": "display_data"
        },
        {
          "data": {
            "application/vnd.jupyter.widget-view+json": {
              "model_id": "5875229e69f84e91a65f9ae1027fc381",
              "version_major": 2,
              "version_minor": 0
            },
            "text/plain": [
              "Downloading (…)cc88b4f7ad/README.md:   0%|          | 0.00/461 [00:00<?, ?B/s]"
            ]
          },
          "metadata": {},
          "output_type": "display_data"
        },
        {
          "data": {
            "application/vnd.jupyter.widget-view+json": {
              "model_id": "13019e9ed8d84b79aef23cc7a52f9ab1",
              "version_major": 2,
              "version_minor": 0
            },
            "text/plain": [
              "Downloading Akita-inu-Park-2.png:   0%|          | 0.00/217k [00:00<?, ?B/s]"
            ]
          },
          "metadata": {},
          "output_type": "display_data"
        },
        {
          "data": {
            "application/vnd.jupyter.widget-view+json": {
              "model_id": "d05e2bbafac147bcb1b06fefab6b7027",
              "version_major": 2,
              "version_minor": 0
            },
            "text/plain": [
              "Downloading Akita-header.jpg:   0%|          | 0.00/60.0k [00:00<?, ?B/s]"
            ]
          },
          "metadata": {},
          "output_type": "display_data"
        },
        {
          "data": {
            "application/vnd.jupyter.widget-view+json": {
              "model_id": "014c19645b46401c862d366e73c683d5",
              "version_major": 2,
              "version_minor": 0
            },
            "text/plain": [
              "Downloading (…)-city-lawn-photo.jpg:   0%|          | 0.00/1.09M [00:00<?, ?B/s]"
            ]
          },
          "metadata": {},
          "output_type": "display_data"
        },
        {
          "data": {
            "application/vnd.jupyter.widget-view+json": {
              "model_id": "db185589c2b9481a8dcf8ace157b3ee5",
              "version_major": 2,
              "version_minor": 0
            },
            "text/plain": [
              "Downloading akita-dog.jpg:   0%|          | 0.00/27.1k [00:00<?, ?B/s]"
            ]
          },
          "metadata": {},
          "output_type": "display_data"
        },
        {
          "data": {
            "application/vnd.jupyter.widget-view+json": {
              "model_id": "23d85cfb4a6e417aaf07cb3228976b59",
              "version_major": 2,
              "version_minor": 0
            },
            "text/plain": [
              "Downloading Akita-inu (2).jpg:   0%|          | 0.00/121k [00:00<?, ?B/s]"
            ]
          },
          "metadata": {},
          "output_type": "display_data"
        },
        {
          "data": {
            "application/vnd.jupyter.widget-view+json": {
              "model_id": "87dbd43ef3324eccaa17a88932df5240",
              "version_major": 2,
              "version_minor": 0
            },
            "text/plain": [
              "Downloading akitainu (1).jpg:   0%|          | 0.00/214k [00:00<?, ?B/s]"
            ]
          },
          "metadata": {},
          "output_type": "display_data"
        },
        {
          "data": {
            "application/vnd.jupyter.widget-view+json": {
              "model_id": "e04734852bdb480a85a7234fe94098e9",
              "version_major": 2,
              "version_minor": 0
            },
            "text/plain": [
              "Downloading akita_inu_santevet.jpg:   0%|          | 0.00/477k [00:00<?, ?B/s]"
            ]
          },
          "metadata": {},
          "output_type": "display_data"
        },
        {
          "data": {
            "application/vnd.jupyter.widget-view+json": {
              "model_id": "8640a442300a4e9fb647ffc9c32f4636",
              "version_major": 2,
              "version_minor": 0
            },
            "text/plain": [
              "Downloading akitainu.jpg:   0%|          | 0.00/5.13M [00:00<?, ?B/s]"
            ]
          },
          "metadata": {},
          "output_type": "display_data"
        },
        {
          "data": {
            "application/vnd.jupyter.widget-view+json": {
              "model_id": "e6ff7c3f07af49b29f7da712ca16a38e",
              "version_major": 2,
              "version_minor": 0
            },
            "text/plain": [
              "Downloading akitainunosato1.jpg:   0%|          | 0.00/473k [00:00<?, ?B/s]"
            ]
          },
          "metadata": {},
          "output_type": "display_data"
        },
        {
          "data": {
            "application/vnd.jupyter.widget-view+json": {
              "model_id": "cc874cfecebb4ee8a258643a728727f6",
              "version_major": 2,
              "version_minor": 0
            },
            "text/plain": [
              "Downloading (…)es_akitainu_lead.jpg:   0%|          | 0.00/127k [00:00<?, ?B/s]"
            ]
          },
          "metadata": {},
          "output_type": "display_data"
        },
        {
          "data": {
            "application/vnd.jupyter.widget-view+json": {
              "model_id": "b663186ddcd44dc18b2ce80a45ddac22",
              "version_major": 2,
              "version_minor": 0
            },
            "text/plain": [
              "Downloading (…)a_inu_52470_orig.jpg:   0%|          | 0.00/247k [00:00<?, ?B/s]"
            ]
          },
          "metadata": {},
          "output_type": "display_data"
        },
        {
          "data": {
            "application/vnd.jupyter.widget-view+json": {
              "model_id": "270706d3de354d57b1888bbb0ff43404",
              "version_major": 2,
              "version_minor": 0
            },
            "text/plain": [
              "Downloading (…)anese-akita-inu.jpeg:   0%|          | 0.00/2.09M [00:00<?, ?B/s]"
            ]
          },
          "metadata": {},
          "output_type": "display_data"
        },
        {
          "data": {
            "application/vnd.jupyter.widget-view+json": {
              "model_id": "dcf3af070bcc4180b2fab620098da940",
              "version_major": 2,
              "version_minor": 0
            },
            "text/plain": [
              "Downloading (…)opengraph_1200-1.jpg:   0%|          | 0.00/98.5k [00:00<?, ?B/s]"
            ]
          },
          "metadata": {},
          "output_type": "display_data"
        },
        {
          "data": {
            "text/plain": [
              "'/workspace/work/dreambooth/data/dog/original'"
            ]
          },
          "execution_count": 4,
          "metadata": {},
          "output_type": "execute_result"
        }
      ],
      "source": [
        "from huggingface_hub import snapshot_download\n",
        "\n",
        "local_dir = \"./data/dog/original\"\n",
        "snapshot_download(\n",
        "    \"keras-dreambooth/akita-inu\",\n",
        "    local_dir=local_dir,\n",
        "    repo_type=\"dataset\",\n",
        "    ignore_patterns=\".gitattributes\",\n",
        ")"
      ]
    },
    {
      "attachments": {},
      "cell_type": "markdown",
      "metadata": {
        "id": "51XK0sMg_HoS"
      },
      "source": [
        "To use your own dataset, take a look at the [Create a dataset for training](https://huggingface.co/docs/diffusers/main/en/training/create_dataset) guide."
      ]
    },
    {
      "attachments": {},
      "cell_type": "markdown",
      "metadata": {
        "id": "6ZcNJ38Q_HoS"
      },
      "source": [
        "## Finetuning"
      ]
    },
    {
      "attachments": {},
      "cell_type": "markdown",
      "metadata": {
        "id": "0jcNov8-_HoT"
      },
      "source": [
        "<Tip warning={true}>\n",
        "\n",
        "DreamBooth finetuning is very sensitive to hyperparameters and easy to overfit. We recommend you take a look at our [in-depth analysis](https://huggingface.co/blog/dreambooth) with recommended settings for different subjects to help you choose the appropriate hyperparameters.\n",
        "\n",
        "</Tip>\n",
        "\n",
        "Set the `INSTANCE_DIR` environment variable to the path of the directory containing the dog images.\n",
        "\n",
        "Specify the `MODEL_NAME` environment variable (either a Hub model repository id or a path to the directory containing the model weights) and pass it to the `pretrained_model_name_or_path` argument. The `instance_prompt` argument is a text prompt that contains a unique identifier, such as `sks`, and the class the image belongs to, which in this example is `a photo of a sks dog`.\n",
        "\n",
        "```bash\n",
        "export MODEL_NAME=\"CompVis/stable-diffusion-v1-4\"\n",
        "export INSTANCE_DIR=\"./dog\"\n",
        "export OUTPUT_DIR=\"path_to_saved_model\"\n",
        "```\n",
        "\n",
        "Then you can launch the training script (you can find the full training script [here](https://github.com/huggingface/diffusers/blob/main/examples/dreambooth/train_dreambooth.py)) with the following command:\n",
        "\n",
        "```bash\n",
        "accelerate launch train_dreambooth.py \\\n",
        "  --pretrained_model_name_or_path=$MODEL_NAME  \\\n",
        "  --instance_data_dir=$INSTANCE_DIR \\\n",
        "  --output_dir=$OUTPUT_DIR \\\n",
        "  --instance_prompt=\"a photo of sks dog\" \\\n",
        "  --resolution=512 \\\n",
        "  --train_batch_size=1 \\\n",
        "  --gradient_accumulation_steps=1 \\\n",
        "  --learning_rate=5e-6 \\\n",
        "  --lr_scheduler=\"constant\" \\\n",
        "  --lr_warmup_steps=0 \\\n",
        "  --max_train_steps=400 \\\n",
        "  --push_to_hub\n",
        "```"
      ]
    },
    {
      "attachments": {},
      "cell_type": "markdown",
      "metadata": {
        "id": "_hiN6W4d_HoT"
      },
      "source": [
        "## Finetuning with prior-preserving loss"
      ]
    },
    {
      "attachments": {},
      "cell_type": "markdown",
      "metadata": {
        "id": "zKo6Lzyy_HoT"
      },
      "source": [
        "Prior preservation is used to avoid overfitting and language-drift (check out the [paper](https://arxiv.org/abs/2208.12242) to learn more if you're interested). For prior preservation, you use other images of the same class as part of the training process. The nice thing is that you can generate those images using the Stable Diffusion model itself! The training script will save the generated images to a local path you specify.\n",
        "\n",
        "The authors recommend generating `num_epochs * num_samples` images for prior preservation. In most cases, 200-300 images work well.\n",
        "\n",
        "```bash\n",
        "# version_0\n",
        "export MODEL_NAME=\"CompVis/stable-diffusion-v1-4\"\n",
        "export INSTANCE_DIR=\"./data/dog/original\"\n",
        "export CLASS_DIR=\"./data/dog/regularise\"\n",
        "export OUTPUT_DIR=\"./logs/dog/prior\"\n",
        "export LOGGING_DIR=\"version_0\"\n",
        "\n",
        "\n",
        "accelerate launch train_dreambooth.py \\\n",
        "  --pretrained_model_name_or_path=$MODEL_NAME  \\\n",
        "  --instance_data_dir=$INSTANCE_DIR \\\n",
        "  --class_data_dir=$CLASS_DIR \\\n",
        "  --output_dir=$OUTPUT_DIR \\\n",
        "  --with_prior_preservation --prior_loss_weight=1.0 \\\n",
        "  --instance_prompt=\"a photo of <sks-dog>\" \\\n",
        "  --class_prompt=\"a photo of dog\" \\\n",
        "  --resolution=512 \\\n",
        "  --train_batch_size=1 \\\n",
        "  --gradient_accumulation_steps=1 \\\n",
        "  --learning_rate=5e-6 \\\n",
        "  --lr_scheduler=\"constant\" \\\n",
        "  --lr_warmup_steps=0 \\\n",
        "  --logging_dir=$LOGGING_DIR \\\n",
        "  --num_class_images=200 \\\n",
        "  --max_train_steps=1200 \\\n",
        "  --checkpointing_steps=300 \\\n",
        "  --validation_prompt=\"A photo of <sks-dog>\" \\\n",
        "  --validation_steps=300 \\\n",
        "  --num_validation_images=16 \\\n",
        "  --push_to_hub\n",
        "\n",
        "# version_1 - low_lr\n",
        "export MODEL_NAME=\"CompVis/stable-diffusion-v1-4\"\n",
        "export INSTANCE_DIR=\"./data/dog/original\"\n",
        "export CLASS_DIR=\"./data/dog/regularise\"\n",
        "export OUTPUT_DIR=\"./logs/dog/prior_low_lr\"\n",
        "export LOGGING_DIR=\"logs\"\n",
        "\n",
        "\n",
        "accelerate launch train_dreambooth.py \\\n",
        "  --pretrained_model_name_or_path=$MODEL_NAME  \\\n",
        "  --instance_data_dir=$INSTANCE_DIR \\\n",
        "  --class_data_dir=$CLASS_DIR \\\n",
        "  --output_dir=$OUTPUT_DIR \\\n",
        "  --with_prior_preservation --prior_loss_weight=1.0 \\\n",
        "  --instance_prompt=\"a photo of <sks-dog>\" \\\n",
        "  --class_prompt=\"a photo of dog\" \\\n",
        "  --resolution=512 \\\n",
        "  --train_batch_size=1 \\\n",
        "  --gradient_accumulation_steps=1 \\\n",
        "  --learning_rate=1e-6 \\\n",
        "  --lr_scheduler=\"constant\" \\\n",
        "  --lr_warmup_steps=0 \\\n",
        "  --logging_dir=$LOGGING_DIR \\\n",
        "  --num_class_images=200 \\\n",
        "  --max_train_steps=801 \\\n",
        "  --checkpointing_steps=200 \\\n",
        "  --validation_prompt=\"A photo of <sks-dog>\" \\\n",
        "  --validation_steps=200 \\\n",
        "  --num_validation_images=15\n",
        "\n",
        "# version_2 - high_lr\n",
        "export MODEL_NAME=\"CompVis/stable-diffusion-v1-4\"\n",
        "export INSTANCE_DIR=\"./data/dog/original\"\n",
        "export CLASS_DIR=\"./data/dog/regularise\"\n",
        "export OUTPUT_DIR=\"./logs/dog/prior_high_lr_again\"\n",
        "export LOGGING_DIR=\"logs\"\n",
        "\n",
        "\n",
        "accelerate launch train_dreambooth.py \\\n",
        "  --pretrained_model_name_or_path=$MODEL_NAME  \\\n",
        "  --instance_data_dir=$INSTANCE_DIR \\\n",
        "  --class_data_dir=$CLASS_DIR \\\n",
        "  --output_dir=$OUTPUT_DIR \\\n",
        "  --with_prior_preservation --prior_loss_weight=1.0 \\\n",
        "  --instance_prompt=\"a photo of <sks-dog>\" \\\n",
        "  --class_prompt=\"a photo of dog\" \\\n",
        "  --resolution=512 \\\n",
        "  --train_batch_size=1 \\\n",
        "  --gradient_accumulation_steps=1 \\\n",
        "  --learning_rate=5e-6 \\\n",
        "  --lr_scheduler=\"constant\" \\\n",
        "  --lr_warmup_steps=0 \\\n",
        "  --logging_dir=$LOGGING_DIR \\\n",
        "  --num_class_images=200 \\\n",
        "  --max_train_steps=801 \\\n",
        "  --checkpointing_steps=200 \\\n",
        "  --validation_prompt=\"A photo of <sks-dog>\" \\\n",
        "  --validation_steps=200 \\\n",
        "  --num_validation_images=15\n",
        "\n",
        "# version 3 - low lr - more steps\n",
        "export MODEL_NAME=\"CompVis/stable-diffusion-v1-4\"\n",
        "export INSTANCE_DIR=\"./data/dog/original\"\n",
        "export CLASS_DIR=\"./data/dog/regularise\"\n",
        "export OUTPUT_DIR=\"./logs/dog/prior_low_lr_1200\"\n",
        "export LOGGING_DIR=\"logs\"\n",
        "\n",
        "accelerate launch train_dreambooth.py \\\n",
        "  --pretrained_model_name_or_path=$MODEL_NAME  \\\n",
        "  --instance_data_dir=$INSTANCE_DIR \\\n",
        "  --class_data_dir=$CLASS_DIR \\\n",
        "  --output_dir=$OUTPUT_DIR \\\n",
        "  --with_prior_preservation --prior_loss_weight=1.0 \\\n",
        "  --instance_prompt=\"a photo of <sks-dog>\" \\\n",
        "  --class_prompt=\"a photo of dog\" \\\n",
        "  --resolution=512 \\\n",
        "  --train_batch_size=1 \\\n",
        "  --gradient_accumulation_steps=1 \\\n",
        "  --learning_rate=1e-6 \\\n",
        "  --lr_scheduler=\"constant\" \\\n",
        "  --lr_warmup_steps=0 \\\n",
        "  --logging_dir=$LOGGING_DIR \\\n",
        "  --num_class_images=200 \\\n",
        "  --max_train_steps=1200 \\\n",
        "  --checkpointing_steps=200 \\\n",
        "  --validation_prompt=\"A photo of <sks-dog>\" \\\n",
        "  --validation_steps=200 \\\n",
        "  --num_validation_images=15\n",
        "```"
      ]
    },
    {
      "attachments": {},
      "cell_type": "markdown",
      "metadata": {
        "id": "yyPtAhbD_HoU"
      },
      "source": [
        "## Finetuning the text encoder and UNet"
      ]
    },
    {
      "attachments": {},
      "cell_type": "markdown",
      "metadata": {
        "id": "EjH6maML_HoU"
      },
      "source": [
        "```bash\n",
        "export MODEL_NAME=\"CompVis/stable-diffusion-v1-4\"\n",
        "export INSTANCE_DIR=\"./data/dog/original\"\n",
        "export CLASS_DIR=\"./data/dog/regularise\"\n",
        "export OUTPUT_DIR=\"./logs/dog/text\"\n",
        "export LOGGING_DIR=\"logs\"\n",
        "\n",
        "accelerate launch train_dreambooth.py \\\n",
        "  --pretrained_model_name_or_path=$MODEL_NAME  \\\n",
        "  --train_text_encoder \\\n",
        "  --instance_data_dir=$INSTANCE_DIR \\\n",
        "  --class_data_dir=$CLASS_DIR \\\n",
        "  --output_dir=$OUTPUT_DIR \\\n",
        "  --with_prior_preservation --prior_loss_weight=1.0 \\\n",
        "  --instance_prompt=\"a photo of <sks-dog>\" \\\n",
        "  --class_prompt=\"a photo of dog\" \\\n",
        "  --resolution=512 \\\n",
        "  --train_batch_size=1 \\\n",
        "  --mixed_precision=\"fp16\" \\\n",
        "  --gradient_accumulation_steps=1 \\\n",
        "  --learning_rate=5e-6 \\\n",
        "  --lr_scheduler=\"constant\" \\\n",
        "  --lr_warmup_steps=0 \\\n",
        "  --logging_dir=$LOGGING_DIR \\\n",
        "  --num_class_images=200 \\\n",
        "  --max_train_steps=1200 \\\n",
        "  --checkpointing_steps=300 \\\n",
        "  --validation_prompt=\"A photo of <sks-dog>\" \\\n",
        "  --validation_steps=300 \\\n",
        "  --num_validation_images=15\n",
        "```"
      ]
    },
    {
      "attachments": {},
      "cell_type": "markdown",
      "metadata": {},
      "source": [
        "## Finetuning with LoRA"
      ]
    },
    {
      "attachments": {},
      "cell_type": "markdown",
      "metadata": {},
      "source": [
        "```bash\n",
        "\n",
        "export MODEL_NAME=\"CompVis/stable-diffusion-v1-4\"\n",
        "export INSTANCE_DIR=\"./data/dog/original\"\n",
        "export CLASS_DIR=\"./data/dog/regularise\"\n",
        "export OUTPUT_DIR=\"./logs/dog/lora\"\n",
        "export LOGGING_DIR=\"logs\"\n",
        "\n",
        "accelerate launch train_dreambooth_lora.py \\\n",
        "  --pretrained_model_name_or_path=$MODEL_NAME  \\\n",
        "  --instance_data_dir=$INSTANCE_DIR \\\n",
        "  --output_dir=$OUTPUT_DIR \\\n",
        "  --instance_prompt=\"a photo of <sks-dog>\" \\\n",
        "  --resolution=512 \\\n",
        "  --train_batch_size=1 \\\n",
        "  --gradient_accumulation_steps=1 \\\n",
        "  --checkpointing_steps=200 \\\n",
        "  --learning_rate=1e-4 \\\n",
        "  --lr_scheduler=\"constant\" \\\n",
        "  --lr_warmup_steps=0 \\\n",
        "  --max_train_steps=601 \\\n",
        "  --validation_prompt=\"A photo of <sks-dog>\" \\\n",
        "  --validation_steps=200 \\\n",
        "  --seed=\"0\"\n"
      ]
    },
    {
      "attachments": {},
      "cell_type": "markdown",
      "metadata": {},
      "source": [
        "```bash\n",
        "# inference \n",
        "pipe.unet.load_attn_procs(lora_model_path)\n",
        "pipe.to(\"cuda\")\n",
        "# use half the weights from the LoRA finetuned model and half the weights from the base model\n",
        "\n",
        "image = pipe(\n",
        "    \"A picture of a sks dog in a bucket.\",\n",
        "    num_inference_steps=25,\n",
        "    guidance_scale=7.5,\n",
        "    cross_attention_kwargs={\"scale\": 0.5},\n",
        ").images[0]\n",
        "# use the weights from the fully finetuned LoRA model\n",
        "\n",
        "image = pipe(\"A picture of a sks dog in a bucket.\", num_inference_steps=25, guidance_scale=7.5).images[0]\n",
        "image.save(\"bucket-dog.png\")\n",
        "```"
      ]
    },
    {
      "attachments": {},
      "cell_type": "markdown",
      "metadata": {},
      "source": [
        "## Textual inversion"
      ]
    },
    {
      "attachments": {},
      "cell_type": "markdown",
      "metadata": {},
      "source": [
        "```bash\n",
        "export MODEL_NAME=\"CompVis/stable-diffusion-v1-4\"\n",
        "export DATA_DIR=\"./data/dog/original\"\n",
        "export CLASS_DIR=\"./data/dog/regularise\"\n",
        "export OUTPUT_DIR=\"./logs/dog/text_inv\"\n",
        "export LOGGING_DIR=\"logs\"\n",
        "\n",
        "\n",
        "accelerate launch textual_inversion.py \\\n",
        "  --pretrained_model_name_or_path=$MODEL_NAME \\\n",
        "  --train_data_dir=$DATA_DIR \\\n",
        "  --learnable_property=\"object\" \\\n",
        "  --placeholder_token=\"<sks-dog>\" --initializer_token=\"dog\" \\\n",
        "  --resolution=512 \\\n",
        "  --train_batch_size=1 \\\n",
        "  --gradient_accumulation_steps=4 \\\n",
        "  --max_train_steps=2000 \\\n",
        "  --learning_rate=5.0e-04 --scale_lr \\\n",
        "  --lr_scheduler=\"constant\" \\\n",
        "  --lr_warmup_steps=0 \\\n",
        "  --output_dir=$OUTPUT_DIR \\\n",
        "  --validation_prompt=\"A photo of <sks-dog>\" \\\n",
        "  --validation_steps=1000 \\\n",
        "  --num_validation_images=16 \n",
        "\n",
        "\n",
        "export MODEL_NAME=\"CompVis/stable-diffusion-v1-4\"\n",
        "export INSTANCE_DIR=\"./data/dog/original\"\n",
        "export CLASS_DIR=\"./data/dog/regularise\"\n",
        "export OUTPUT_DIR=\"./logs/dog/prior_low_lr_1200\"\n",
        "export LOGGING_DIR=\"logs\"\n",
        "```\n"
      ]
    },
    {
      "attachments": {},
      "cell_type": "markdown",
      "metadata": {
        "id": "lNDtvDu__HoU"
      },
      "source": [
        "## Saving checkpoints while training"
      ]
    },
    {
      "attachments": {},
      "cell_type": "markdown",
      "metadata": {
        "id": "fTHMpsZs_HoU"
      },
      "source": [
        "It's easy to overfit while training with Dreambooth, so sometimes it's useful to save regular checkpoints during the training process. One of the intermediate checkpoints might actually work better than the final model! Pass the following argument to the training script to enable saving checkpoints:\n",
        "\n",
        "```bash\n",
        "  --checkpointing_steps=500\n",
        "```\n",
        "\n",
        "This saves the full training state in subfolders of your `output_dir`. Subfolder names begin with the prefix `checkpoint-`, followed by the number of steps performed so far; for example, `checkpoint-1500` would be a checkpoint saved after 1500 training steps."
      ]
    },
    {
      "attachments": {},
      "cell_type": "markdown",
      "metadata": {
        "id": "aLxCQKv__HoU"
      },
      "source": [
        "### Resume training from a saved checkpoint"
      ]
    },
    {
      "attachments": {},
      "cell_type": "markdown",
      "metadata": {
        "id": "5ow6BTOL_HoU"
      },
      "source": [
        "If you want to resume training from any of the saved checkpoints, you can pass the argument `--resume_from_checkpoint` to the script and specify the name of the checkpoint you want to use. You can also use the special string `\"latest\"` to resume from the last saved checkpoint (the one with the largest number of steps). For example, the following would resume training from the checkpoint saved after 1500 steps:\n",
        "\n",
        "```bash\n",
        "  --resume_from_checkpoint=\"checkpoint-1500\"\n",
        "```\n",
        "\n",
        "This is a good opportunity to tweak some of your hyperparameters if you wish."
      ]
    },
    {
      "attachments": {},
      "cell_type": "markdown",
      "metadata": {
        "id": "OyMQzHyO_HoU"
      },
      "source": [
        "### Inference from a saved checkpoint"
      ]
    },
    {
      "attachments": {},
      "cell_type": "markdown",
      "metadata": {
        "id": "JZ6uRKnQ_HoU"
      },
      "source": [
        "Saved checkpoints are stored in a format suitable for resuming training. They not only include the model weights, but also the state of the optimizer, data loaders, and learning rate.\n",
        "\n",
        "If you have **`\"accelerate>=0.16.0\"`** installed, use the following code to run \n",
        "inference from an intermediate checkpoint."
      ]
    },
    {
      "cell_type": "code",
      "execution_count": null,
      "metadata": {
        "id": "w-o2QhMG_HoU"
      },
      "outputs": [],
      "source": [
        "from diffusers import DiffusionPipeline, UNet2DConditionModel\n",
        "from transformers import CLIPTextModel\n",
        "import torch\n",
        "\n",
        "# Load the pipeline with the same arguments (model, revision) that were used for training\n",
        "model_id = \"CompVis/stable-diffusion-v1-4\"\n",
        "\n",
        "unet = UNet2DConditionModel.from_pretrained(\"/sddata/dreambooth/daruma-v2-1/checkpoint-100/unet\")\n",
        "\n",
        "# if you have trained with `--args.train_text_encoder` make sure to also load the text encoder\n",
        "text_encoder = CLIPTextModel.from_pretrained(\"/sddata/dreambooth/daruma-v2-1/checkpoint-100/text_encoder\")\n",
        "\n",
        "pipeline = DiffusionPipeline.from_pretrained(model_id, unet=unet, text_encoder=text_encoder, dtype=torch.float16)\n",
        "pipeline.to(\"cuda\")\n",
        "\n",
        "# Perform inference, or save, or push to the hub\n",
        "pipeline.save_pretrained(\"dreambooth-pipeline\")"
      ]
    },
    {
      "attachments": {},
      "cell_type": "markdown",
      "metadata": {
        "id": "BOBOe7b0_HoV"
      },
      "source": [
        "If you have **`\"accelerate<0.16.0\"`** installed, you need to convert it to an inference pipeline first:"
      ]
    },
    {
      "cell_type": "code",
      "execution_count": null,
      "metadata": {
        "id": "fUk3lAoc_HoV"
      },
      "outputs": [],
      "source": [
        "from accelerate import Accelerator\n",
        "from diffusers import DiffusionPipeline\n",
        "\n",
        "# Load the pipeline with the same arguments (model, revision) that were used for training\n",
        "model_id = \"CompVis/stable-diffusion-v1-4\"\n",
        "pipeline = DiffusionPipeline.from_pretrained(model_id)\n",
        "\n",
        "accelerator = Accelerator()\n",
        "\n",
        "# Use text_encoder if `--train_text_encoder` was used for the initial training\n",
        "unet, text_encoder = accelerator.prepare(pipeline.unet, pipeline.text_encoder)\n",
        "\n",
        "# Restore state from a checkpoint path. You have to use the absolute path here.\n",
        "accelerator.load_state(\"/sddata/dreambooth/daruma-v2-1/checkpoint-100\")\n",
        "\n",
        "# Rebuild the pipeline with the unwrapped models (assignment to .unet and .text_encoder should work too)\n",
        "pipeline = DiffusionPipeline.from_pretrained(\n",
        "    model_id,\n",
        "    unet=accelerator.unwrap_model(unet),\n",
        "    text_encoder=accelerator.unwrap_model(text_encoder),\n",
        ")\n",
        "\n",
        "# Perform inference, or save, or push to the hub\n",
        "pipeline.save_pretrained(\"dreambooth-pipeline\")"
      ]
    },
    {
      "attachments": {},
      "cell_type": "markdown",
      "metadata": {
        "id": "igvYPfjB_HoV"
      },
      "source": [
        "## Optimizations for different GPU sizes"
      ]
    },
    {
      "attachments": {},
      "cell_type": "markdown",
      "metadata": {
        "id": "W7NM2zHm_HoV"
      },
      "source": [
        "Depending on your hardware, there are a few different ways to optimize DreamBooth on GPUs from 16GB to just 8GB!"
      ]
    },
    {
      "attachments": {},
      "cell_type": "markdown",
      "metadata": {
        "id": "VjeygaDD_HoV"
      },
      "source": [
        "### xFormers"
      ]
    },
    {
      "attachments": {},
      "cell_type": "markdown",
      "metadata": {
        "id": "Vm3oTd5z_HoV"
      },
      "source": [
        "[xFormers](https://github.com/facebookresearch/xformers) is a toolbox for optimizing Transformers, and it includes a [memory-efficient attention](https://facebookresearch.github.io/xformers/components/ops.html#module-xformers.ops) mechanism that is used in 🧨 Diffusers. You'll need to [install xFormers](https://huggingface.co/docs/diffusers/main/en/training/./optimization/xformers) and then add the following argument to your training script:\n",
        "\n",
        "```bash\n",
        "  --enable_xformers_memory_efficient_attention\n",
        "```\n",
        "\n",
        "xFormers is not available in Flax."
      ]
    },
    {
      "attachments": {},
      "cell_type": "markdown",
      "metadata": {
        "id": "QNlF3YZz_HoV"
      },
      "source": [
        "### Set gradients to none"
      ]
    },
    {
      "attachments": {},
      "cell_type": "markdown",
      "metadata": {
        "id": "3wryBQRP_HoV"
      },
      "source": [
        "Another way you can lower your memory footprint is to [set the gradients](https://pytorch.org/docs/stable/generated/torch.optim.Optimizer.zero_grad.html) to `None` instead of zero. However, this may change certain behaviors, so if you run into any issues, try removing this argument. Add the following argument to your training script to set the gradients to `None`:\n",
        "\n",
        "```bash\n",
        "  --set_grads_to_none\n",
        "```"
      ]
    },
    {
      "attachments": {},
      "cell_type": "markdown",
      "metadata": {
        "id": "2T9kMbVb_HoV"
      },
      "source": [
        "### 16GB GPU"
      ]
    },
    {
      "attachments": {},
      "cell_type": "markdown",
      "metadata": {
        "id": "gaKVMDaR_HoV"
      },
      "source": [
        "With the help of gradient checkpointing and [bitsandbytes](https://github.com/TimDettmers/bitsandbytes) 8-bit optimizer, it's possible to train DreamBooth on a 16GB GPU. Make sure you have bitsandbytes installed:\n",
        "\n",
        "```bash\n",
        "pip install bitsandbytes\n",
        "```\n",
        "\n",
        "Then pass the `--use_8bit_adam` option to the training script:\n",
        "\n",
        "```bash\n",
        "export MODEL_NAME=\"CompVis/stable-diffusion-v1-4\"\n",
        "export INSTANCE_DIR=\"./dog\"\n",
        "export CLASS_DIR=\"path_to_class_images\"\n",
        "export OUTPUT_DIR=\"path_to_saved_model\"\n",
        "\n",
        "accelerate launch train_dreambooth.py \\\n",
        "  --pretrained_model_name_or_path=$MODEL_NAME  \\\n",
        "  --instance_data_dir=$INSTANCE_DIR \\\n",
        "  --class_data_dir=$CLASS_DIR \\\n",
        "  --output_dir=$OUTPUT_DIR \\\n",
        "  --with_prior_preservation --prior_loss_weight=1.0 \\\n",
        "  --instance_prompt=\"a photo of sks dog\" \\\n",
        "  --class_prompt=\"a photo of dog\" \\\n",
        "  --resolution=512 \\\n",
        "  --train_batch_size=1 \\\n",
        "  --gradient_accumulation_steps=2 --gradient_checkpointing \\\n",
        "  --use_8bit_adam \\\n",
        "  --learning_rate=5e-6 \\\n",
        "  --lr_scheduler=\"constant\" \\\n",
        "  --lr_warmup_steps=0 \\\n",
        "  --num_class_images=200 \\\n",
        "  --max_train_steps=800 \\\n",
        "  --push_to_hub\n",
        "```"
      ]
    },
    {
      "attachments": {},
      "cell_type": "markdown",
      "metadata": {
        "id": "2N16Gi--_HoV"
      },
      "source": [
        "### 12GB GPU"
      ]
    },
    {
      "attachments": {},
      "cell_type": "markdown",
      "metadata": {
        "id": "7sgGgZ70_HoV"
      },
      "source": [
        "To run DreamBooth on a 12GB GPU, you'll need to enable gradient checkpointing, the 8-bit optimizer, xFormers, and set the gradients to `None`: \n",
        "\n",
        "```bash\n",
        "export MODEL_NAME=\"CompVis/stable-diffusion-v1-4\"\n",
        "export INSTANCE_DIR=\"./dog\"\n",
        "export CLASS_DIR=\"path-to-class-images\"\n",
        "export OUTPUT_DIR=\"path-to-save-model\"\n",
        "\n",
        "accelerate launch train_dreambooth.py \\\n",
        "  --pretrained_model_name_or_path=$MODEL_NAME  \\\n",
        "  --instance_data_dir=$INSTANCE_DIR \\\n",
        "  --class_data_dir=$CLASS_DIR \\\n",
        "  --output_dir=$OUTPUT_DIR \\\n",
        "  --with_prior_preservation --prior_loss_weight=1.0 \\\n",
        "  --instance_prompt=\"a photo of sks dog\" \\\n",
        "  --class_prompt=\"a photo of dog\" \\\n",
        "  --resolution=512 \\\n",
        "  --train_batch_size=1 \\\n",
        "  --gradient_accumulation_steps=1 --gradient_checkpointing \\\n",
        "  --use_8bit_adam \\\n",
        "  --enable_xformers_memory_efficient_attention \\\n",
        "  --set_grads_to_none \\\n",
        "  --learning_rate=2e-6 \\\n",
        "  --lr_scheduler=\"constant\" \\\n",
        "  --lr_warmup_steps=0 \\\n",
        "  --num_class_images=200 \\\n",
        "  --max_train_steps=800 \\\n",
        "  --push_to_hub\n",
        "```"
      ]
    },
    {
      "attachments": {},
      "cell_type": "markdown",
      "metadata": {
        "id": "MNt__faK_HoV"
      },
      "source": [
        "### 8 GB GPU"
      ]
    },
    {
      "attachments": {},
      "cell_type": "markdown",
      "metadata": {
        "id": "pzffaPea_HoV"
      },
      "source": [
        "For 8GB GPUs, you'll need the help of [DeepSpeed](https://www.deepspeed.ai/) to offload some\n",
        "tensors from the VRAM to either the CPU or NVME, enabling training with less GPU memory.\n",
        "\n",
        "Run the following command to configure your 🤗 Accelerate environment:\n",
        "\n",
        "```bash\n",
        "accelerate config\n",
        "```\n",
        "\n",
        "During configuration, confirm that you want to use DeepSpeed. Now it's possible to train on under 8GB VRAM by combining DeepSpeed stage 2, fp16 mixed precision, and offloading the model parameters and the optimizer state to the CPU. The drawback is that this requires more system RAM, about 25 GB. See [the DeepSpeed documentation](https://huggingface.co/docs/accelerate/usage_guides/deepspeed) for more configuration options.\n",
        "\n",
        "You should also change the default Adam optimizer to DeepSpeed's optimized version of Adam\n",
        "[`deepspeed.ops.adam.DeepSpeedCPUAdam`](https://deepspeed.readthedocs.io/en/latest/optimizers.html#adam-cpu) for a substantial speedup. Enabling `DeepSpeedCPUAdam` requires your system's CUDA toolchain version to be the same as the one installed with PyTorch. \n",
        "\n",
        "8-bit optimizers don't seem to be compatible with DeepSpeed at the moment.\n",
        "\n",
        "Launch training with the following command:\n",
        "\n",
        "```bash\n",
        "export MODEL_NAME=\"CompVis/stable-diffusion-v1-4\"\n",
        "export INSTANCE_DIR=\"./dog\"\n",
        "export CLASS_DIR=\"path_to_class_images\"\n",
        "export OUTPUT_DIR=\"path_to_saved_model\"\n",
        "\n",
        "accelerate launch train_dreambooth.py \\\n",
        "  --pretrained_model_name_or_path=$MODEL_NAME \\\n",
        "  --instance_data_dir=$INSTANCE_DIR \\\n",
        "  --class_data_dir=$CLASS_DIR \\\n",
        "  --output_dir=$OUTPUT_DIR \\\n",
        "  --with_prior_preservation --prior_loss_weight=1.0 \\\n",
        "  --instance_prompt=\"a photo of sks dog\" \\\n",
        "  --class_prompt=\"a photo of dog\" \\\n",
        "  --resolution=512 \\\n",
        "  --train_batch_size=1 \\\n",
        "  --sample_batch_size=1 \\\n",
        "  --gradient_accumulation_steps=1 --gradient_checkpointing \\\n",
        "  --learning_rate=5e-6 \\\n",
        "  --lr_scheduler=\"constant\" \\\n",
        "  --lr_warmup_steps=0 \\\n",
        "  --num_class_images=200 \\\n",
        "  --max_train_steps=800 \\\n",
        "  --mixed_precision=fp16 \\\n",
        "  --push_to_hub\n",
        "```"
      ]
    },
    {
      "attachments": {},
      "cell_type": "markdown",
      "metadata": {
        "id": "CtfNgOxc_HoV"
      },
      "source": [
        "## Inference"
      ]
    },
    {
      "attachments": {},
      "cell_type": "markdown",
      "metadata": {
        "id": "dsDu7aYp_HoV"
      },
      "source": [
        "Once you have trained a model, specify the path to where the model is saved, and use it for inference in the [StableDiffusionPipeline](https://huggingface.co/docs/diffusers/main/en/api/pipelines/stable_diffusion/text2img#diffusers.StableDiffusionPipeline). Make sure your prompts include the special `identifier` used during training (`sks` in the previous examples).\n",
        "\n",
        "If you have **`\"accelerate>=0.16.0\"`** installed, you can use the following code to run \n",
        "inference from an intermediate checkpoint:"
      ]
    },
    {
      "cell_type": "code",
      "execution_count": null,
      "metadata": {
        "id": "B8d5Nr7a_HoV"
      },
      "outputs": [],
      "source": [
        "from diffusers import DiffusionPipeline\n",
        "import torch\n",
        "\n",
        "model_id = \"path_to_saved_model\"\n",
        "pipe = DiffusionPipeline.from_pretrained(model_id, torch_dtype=torch.float16).to(\"cuda\")\n",
        "\n",
        "prompt = \"A photo of sks dog in a bucket\"\n",
        "image = pipe(prompt, num_inference_steps=50, guidance_scale=7.5).images[0]\n",
        "\n",
        "image.save(\"dog-bucket.png\")"
      ]
    },
    {
      "attachments": {},
      "cell_type": "markdown",
      "metadata": {
        "id": "KqJxVWrQ_HoV"
      },
      "source": [
        "You may also run inference from any of the [saved training checkpoints](#inference-from-a-saved-checkpoint)."
      ]
    }
  ],
  "metadata": {
    "colab": {
      "provenance": []
    },
    "kernelspec": {
      "display_name": "base",
      "language": "python",
      "name": "python3"
    },
    "language_info": {
      "codemirror_mode": {
        "name": "ipython",
        "version": 3
      },
      "file_extension": ".py",
      "mimetype": "text/x-python",
      "name": "python",
      "nbconvert_exporter": "python",
      "pygments_lexer": "ipython3",
      "version": "3.10.11"
    }
  },
  "nbformat": 4,
  "nbformat_minor": 0
}
